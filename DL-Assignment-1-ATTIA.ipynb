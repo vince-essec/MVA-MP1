{
 "cells": [
  {
   "cell_type": "markdown",
   "metadata": {},
   "source": [
    "# Project: Image Classification and Regression MVA - CentraleSupelec"
   ]
  },
  {
   "cell_type": "markdown",
   "metadata": {},
   "source": [
    "# Vincent ATTIA"
   ]
  },
  {
   "cell_type": "markdown",
   "metadata": {},
   "source": [
    "## Getting Started"
   ]
  },
  {
   "cell_type": "code",
   "execution_count": 1,
   "metadata": {},
   "outputs": [
    {
     "name": "stderr",
     "output_type": "stream",
     "text": [
      "Using TensorFlow backend.\n"
     ]
    }
   ],
   "source": [
    "from keras.models import Sequential\n",
    "from keras.layers import Dense, Activation\n",
    "import numpy as np\n",
    "import matplotlib.pyplot as plt\n",
    "import matplotlib.patches as patches\n",
    "from keras.optimizers import SGD"
   ]
  },
  {
   "cell_type": "code",
   "execution_count": 2,
   "metadata": {},
   "outputs": [],
   "source": [
    "def generate_a_drawing(figsize, U, V, noise=0.0):\n",
    "    fig = plt.figure(figsize=(figsize,figsize))\n",
    "    ax = plt.subplot(111)\n",
    "    plt.axis('Off')\n",
    "    ax.set_xlim(0,figsize)\n",
    "    ax.set_ylim(0,figsize)\n",
    "    ax.fill(U, V, \"k\")\n",
    "    fig.canvas.draw()\n",
    "    imdata = np.frombuffer(fig.canvas.tostring_rgb(), dtype=np.uint8)[::3].astype(np.float32)\n",
    "    imdata = imdata + noise * np.random.random(imdata.size)\n",
    "    plt.close(fig)\n",
    "    return imdata"
   ]
  },
  {
   "cell_type": "code",
   "execution_count": 3,
   "metadata": {},
   "outputs": [],
   "source": [
    "def generate_a_rectangle(noise=0.0, free_location=False):\n",
    "    figsize = 1.0    \n",
    "    U = np.zeros(4)\n",
    "    V = np.zeros(4)\n",
    "    if free_location:\n",
    "        corners = np.random.random(4)\n",
    "        top = max(corners[0], corners[1])\n",
    "        bottom = min(corners[0], corners[1])\n",
    "        left = min(corners[2], corners[3])\n",
    "        right = max(corners[2], corners[3])\n",
    "    else:\n",
    "        side = (0.3 + 0.7 * np.random.random()) * figsize\n",
    "        top = figsize/2 + side/2\n",
    "        bottom = figsize/2 - side/2\n",
    "        left = bottom\n",
    "        right = top\n",
    "    U[0] = U[1] = top\n",
    "    U[2] = U[3] = bottom\n",
    "    V[0] = V[3] = left\n",
    "    V[1] = V[2] = right\n",
    "    return generate_a_drawing(figsize, U, V, noise)"
   ]
  },
  {
   "cell_type": "code",
   "execution_count": 4,
   "metadata": {},
   "outputs": [],
   "source": [
    "def generate_a_disk(noise=0.0, free_location=False):\n",
    "    figsize = 1.0\n",
    "    if free_location:\n",
    "        center = np.random.random(2)\n",
    "    else:\n",
    "        center = (figsize/2, figsize/2)\n",
    "    radius = (0.3 + 0.7 * np.random.random()) * figsize/2\n",
    "    N = 50\n",
    "    U = np.zeros(N)\n",
    "    V = np.zeros(N)\n",
    "    i = 0\n",
    "    for t in np.linspace(0, 2*np.pi, N):\n",
    "        U[i] = center[0] + np.cos(t) * radius\n",
    "        V[i] = center[1] + np.sin(t) * radius\n",
    "        i = i + 1\n",
    "    return generate_a_drawing(figsize, U, V, noise)"
   ]
  },
  {
   "cell_type": "code",
   "execution_count": 5,
   "metadata": {},
   "outputs": [],
   "source": [
    "def generate_a_triangle(noise=0.0, free_location=False):\n",
    "    figsize = 1.0\n",
    "    if free_location:\n",
    "        U = np.random.random(3)\n",
    "        V = np.random.random(3)\n",
    "    else:\n",
    "        size = (0.3 + 0.7 * np.random.random())*figsize/2\n",
    "        middle = figsize/2\n",
    "        U = (middle, middle+size, middle-size)\n",
    "        V = (middle+size, middle-size, middle-size)\n",
    "    imdata = generate_a_drawing(figsize, U, V, noise)\n",
    "    return [imdata, [U[0], V[0], U[1], V[1], U[2], V[2]]]"
   ]
  },
  {
   "cell_type": "code",
   "execution_count": 6,
   "metadata": {},
   "outputs": [],
   "source": [
    "# On some implementations of matplotlib, you may need to change this value\n",
    "IMAGE_SIZE = 72"
   ]
  },
  {
   "cell_type": "code",
   "execution_count": 7,
   "metadata": {},
   "outputs": [
    {
     "data": {
      "text/plain": [
       "<matplotlib.image.AxesImage at 0x12bf278d0>"
      ]
     },
     "execution_count": 7,
     "metadata": {},
     "output_type": "execute_result"
    },
    {
     "data": {
      "image/png": "[encoded data removed]",
      "text/plain": [
       "<Figure size 432x288 with 1 Axes>"
      ]
     },
     "metadata": {
      "needs_background": "light"
     },
     "output_type": "display_data"
    }
   ],
   "source": [
    "im = generate_a_rectangle(10, True)\n",
    "plt.imshow(im.reshape(IMAGE_SIZE,IMAGE_SIZE), cmap='gray')"
   ]
  },
  {
   "cell_type": "code",
   "execution_count": 8,
   "metadata": {},
   "outputs": [
    {
     "data": {
      "text/plain": [
       "<matplotlib.image.AxesImage at 0x12c130990>"
      ]
     },
     "execution_count": 8,
     "metadata": {},
     "output_type": "execute_result"
    },
    {
     "data": {
      "image/png": "[encoded data removed]",
      "text/plain": [
       "<Figure size 432x288 with 1 Axes>"
      ]
     },
     "metadata": {
      "needs_background": "light"
     },
     "output_type": "display_data"
    }
   ],
   "source": [
    "im = generate_a_disk(10)\n",
    "plt.imshow(im.reshape(IMAGE_SIZE,IMAGE_SIZE), cmap='gray')"
   ]
  },
  {
   "cell_type": "code",
   "execution_count": 9,
   "metadata": {},
   "outputs": [
    {
     "data": {
      "text/plain": [
       "<matplotlib.image.AxesImage at 0x129e75c90>"
      ]
     },
     "execution_count": 9,
     "metadata": {},
     "output_type": "execute_result"
    },
    {
     "data": {
      "image/png": "[encoded data removed]",
      "text/plain": [
       "<Figure size 432x288 with 1 Axes>"
      ]
     },
     "metadata": {
      "needs_background": "light"
     },
     "output_type": "display_data"
    }
   ],
   "source": [
    "[im, v] = generate_a_triangle(20, False)\n",
    "plt.imshow(im.reshape(IMAGE_SIZE,IMAGE_SIZE), cmap='gray')"
   ]
  },
  {
   "cell_type": "markdown",
   "metadata": {},
   "source": [
    "Code to generate a dataset was changed in order to output as labels a matrix with 3 colums in a binary format instead of a vector including the label."
   ]
  },
  {
   "cell_type": "markdown",
   "metadata": {},
   "source": [
    "Generate_test_set_classification was also changed accordingly."
   ]
  },
  {
   "cell_type": "code",
   "execution_count": 10,
   "metadata": {},
   "outputs": [],
   "source": [
    "def generate_dataset_classification(nb_samples, noise=0.0, free_location=False):\n",
    "    # Getting im_size:\n",
    "    im_size = generate_a_rectangle().shape[0]\n",
    "    X = np.zeros([nb_samples,im_size])\n",
    "    Y = np.zeros((nb_samples, 3))\n",
    "    print('Creating data:')\n",
    "    for i in range(nb_samples):\n",
    "        if i % 10 == 0:\n",
    "            print(i)\n",
    "        category = np.random.randint(3)\n",
    "        if category == 0:\n",
    "            X[i] = generate_a_rectangle(noise, free_location)\n",
    "        elif category == 1: \n",
    "            X[i] = generate_a_disk(noise, free_location)\n",
    "        else:\n",
    "            [X[i], V] = generate_a_triangle(noise, free_location)\n",
    "        Y[i, category] = 1\n",
    "    X = (X + noise) / (255 + 2 * noise)\n",
    "    return [X, Y]"
   ]
  },
  {
   "cell_type": "code",
   "execution_count": 11,
   "metadata": {},
   "outputs": [],
   "source": [
    "def generate_test_set_classification():\n",
    "    np.random.seed(42)\n",
    "    [X_test, Y_test] = generate_dataset_classification(300, 20, True)\n",
    "    return [X_test, Y_test]"
   ]
  },
  {
   "cell_type": "code",
   "execution_count": 12,
   "metadata": {},
   "outputs": [],
   "source": [
    "def generate_dataset_regression(nb_samples, noise=0.0):\n",
    "    # Getting im_size:\n",
    "    im_size = generate_a_triangle()[0].shape[0]\n",
    "    X = np.zeros([nb_samples,im_size])\n",
    "    Y = np.zeros([nb_samples, 6])\n",
    "    print('Creating data:')\n",
    "    for i in range(nb_samples):\n",
    "        if i % 10 == 0:\n",
    "            print(i)\n",
    "        [X[i], Y[i]] = generate_a_triangle(noise, True)\n",
    "    X = (X + noise) / (255 + 2 * noise)\n",
    "    return [X, Y]"
   ]
  },
  {
   "cell_type": "code",
   "execution_count": 13,
   "metadata": {},
   "outputs": [],
   "source": [
    "def visualize_prediction(x, y):\n",
    "    fig, ax = plt.subplots(figsize=(5, 5))\n",
    "    I = x.reshape((IMAGE_SIZE,IMAGE_SIZE))\n",
    "    ax.imshow(I, extent=[-0.15,1.15,-0.15,1.15],cmap='gray')\n",
    "    ax.set_xlim([0,1])\n",
    "    ax.set_ylim([0,1])\n",
    "\n",
    "    xy = y.reshape(3,2)\n",
    "    tri = patches.Polygon(xy, closed=True, fill = False, edgecolor = 'r', linewidth = 5, alpha = 0.5)\n",
    "    ax.add_patch(tri)\n",
    "\n",
    "    plt.show()"
   ]
  },
  {
   "cell_type": "code",
   "execution_count": 14,
   "metadata": {},
   "outputs": [],
   "source": [
    "def generate_test_set_regression():\n",
    "    np.random.seed(42)\n",
    "    [X_test, Y_test] = generate_dataset_regression(300, 20)\n",
    "    return [X_test, Y_test]"
   ]
  },
  {
   "cell_type": "markdown",
   "metadata": {},
   "source": [
    "## 3 Simple Classification - stochastic gradient descent"
   ]
  },
  {
   "cell_type": "code",
   "execution_count": 15,
   "metadata": {
    "scrolled": true
   },
   "outputs": [
    {
     "name": "stdout",
     "output_type": "stream",
     "text": [
      "Creating data:\n",
      "0\n",
      "10\n",
      "20\n",
      "30\n",
      "40\n",
      "50\n",
      "60\n",
      "70\n",
      "80\n",
      "90\n",
      "100\n",
      "110\n",
      "120\n",
      "130\n",
      "140\n",
      "150\n",
      "160\n",
      "170\n",
      "180\n",
      "190\n",
      "200\n",
      "210\n",
      "220\n",
      "230\n",
      "240\n",
      "250\n",
      "260\n",
      "270\n",
      "280\n",
      "290\n"
     ]
    }
   ],
   "source": [
    "[X_train, Y_train] = generate_dataset_classification(300, 20)"
   ]
  },
  {
   "cell_type": "code",
   "execution_count": 16,
   "metadata": {},
   "outputs": [
    {
     "data": {
      "text/plain": [
       "(300, 5184)"
      ]
     },
     "execution_count": 16,
     "metadata": {},
     "output_type": "execute_result"
    }
   ],
   "source": [
    "X_train.shape"
   ]
  },
  {
   "cell_type": "code",
   "execution_count": 17,
   "metadata": {},
   "outputs": [
    {
     "data": {
      "text/plain": [
       "(300, 3)"
      ]
     },
     "execution_count": 17,
     "metadata": {},
     "output_type": "execute_result"
    }
   ],
   "source": [
    "Y_train.shape"
   ]
  },
  {
   "cell_type": "code",
   "execution_count": 18,
   "metadata": {},
   "outputs": [],
   "source": [
    "from keras.models import Sequential\n",
    "model = Sequential()"
   ]
  },
  {
   "cell_type": "code",
   "execution_count": 19,
   "metadata": {},
   "outputs": [],
   "source": [
    "from keras.layers import Dense, Activation\n",
    "nb_neurons = 121\n",
    "model = Sequential([\n",
    "  Dense(nb_neurons, input_shape=(5184,)),\n",
    "  Activation('relu'),\n",
    "  Dense(64),\n",
    "  Activation('relu'),\n",
    "  Dense(3, activation ='softmax')])"
   ]
  },
  {
   "cell_type": "code",
   "execution_count": 20,
   "metadata": {},
   "outputs": [],
   "source": [
    "from keras.optimizers import SGD\n",
    "sgd = SGD(lr=0.001,\n",
    "          decay=1e-6, momentum=0.9,\n",
    "nesterov=True)\n",
    "model.compile(loss='categorical_crossentropy', optimizer=sgd, metrics =['accuracy'])"
   ]
  },
  {
   "cell_type": "code",
   "execution_count": 21,
   "metadata": {
    "scrolled": true
   },
   "outputs": [
    {
     "name": "stdout",
     "output_type": "stream",
     "text": [
      "Train on 240 samples, validate on 60 samples\n",
      "Epoch 1/50\n",
      "240/240 [==============================] - 0s 804us/step - loss: 1.2095 - acc: 0.3875 - val_loss: 0.9356 - val_acc: 0.5333\n",
      "Epoch 2/50\n",
      "240/240 [==============================] - 0s 204us/step - loss: 0.8817 - acc: 0.5708 - val_loss: 0.8522 - val_acc: 0.6333\n",
      "Epoch 3/50\n",
      "240/240 [==============================] - 0s 197us/step - loss: 0.7386 - acc: 0.7333 - val_loss: 0.7253 - val_acc: 0.7500\n",
      "Epoch 4/50\n",
      "240/240 [==============================] - 0s 198us/step - loss: 0.6140 - acc: 0.8042 - val_loss: 0.6326 - val_acc: 0.8000\n",
      "Epoch 5/50\n",
      "240/240 [==============================] - 0s 206us/step - loss: 0.5146 - acc: 0.8375 - val_loss: 0.5711 - val_acc: 0.8167\n",
      "Epoch 6/50\n",
      "240/240 [==============================] - 0s 207us/step - loss: 0.4584 - acc: 0.8500 - val_loss: 0.4966 - val_acc: 0.8000\n",
      "Epoch 7/50\n",
      "240/240 [==============================] - 0s 204us/step - loss: 0.4098 - acc: 0.8583 - val_loss: 0.4079 - val_acc: 0.7833\n",
      "Epoch 8/50\n",
      "240/240 [==============================] - 0s 213us/step - loss: 0.3535 - acc: 0.8833 - val_loss: 0.3753 - val_acc: 0.8167\n",
      "Epoch 9/50\n",
      "240/240 [==============================] - 0s 199us/step - loss: 0.3192 - acc: 0.9000 - val_loss: 0.4293 - val_acc: 0.8167\n",
      "Epoch 10/50\n",
      "240/240 [==============================] - 0s 203us/step - loss: 0.2901 - acc: 0.9125 - val_loss: 0.3313 - val_acc: 0.8333\n",
      "Epoch 11/50\n",
      "240/240 [==============================] - 0s 199us/step - loss: 0.2682 - acc: 0.8958 - val_loss: 0.3280 - val_acc: 0.8167\n",
      "Epoch 12/50\n",
      "240/240 [==============================] - 0s 203us/step - loss: 0.2443 - acc: 0.9375 - val_loss: 0.2729 - val_acc: 0.9833\n",
      "Epoch 13/50\n",
      "240/240 [==============================] - 0s 195us/step - loss: 0.2172 - acc: 0.9167 - val_loss: 0.3948 - val_acc: 0.8500\n",
      "Epoch 14/50\n",
      "240/240 [==============================] - 0s 199us/step - loss: 0.2351 - acc: 0.9333 - val_loss: 0.2448 - val_acc: 0.9833\n",
      "Epoch 15/50\n",
      "240/240 [==============================] - 0s 200us/step - loss: 0.1905 - acc: 0.9458 - val_loss: 0.2709 - val_acc: 0.8833\n",
      "Epoch 16/50\n",
      "240/240 [==============================] - 0s 203us/step - loss: 0.2070 - acc: 0.9208 - val_loss: 0.2202 - val_acc: 0.9500\n",
      "Epoch 17/50\n",
      "240/240 [==============================] - 0s 199us/step - loss: 0.1786 - acc: 0.9417 - val_loss: 0.2040 - val_acc: 0.9167\n",
      "Epoch 18/50\n",
      "240/240 [==============================] - 0s 205us/step - loss: 0.1636 - acc: 0.9667 - val_loss: 0.1788 - val_acc: 0.9667\n",
      "Epoch 19/50\n",
      "240/240 [==============================] - 0s 201us/step - loss: 0.1581 - acc: 0.9583 - val_loss: 0.3538 - val_acc: 0.8333\n",
      "Epoch 20/50\n",
      "240/240 [==============================] - 0s 200us/step - loss: 0.1849 - acc: 0.9417 - val_loss: 0.1609 - val_acc: 1.0000\n",
      "Epoch 21/50\n",
      "240/240 [==============================] - 0s 199us/step - loss: 0.1440 - acc: 0.9583 - val_loss: 0.1487 - val_acc: 1.0000\n",
      "Epoch 22/50\n",
      "240/240 [==============================] - 0s 203us/step - loss: 0.1301 - acc: 0.9792 - val_loss: 0.1425 - val_acc: 1.0000\n",
      "Epoch 23/50\n",
      "240/240 [==============================] - 0s 200us/step - loss: 0.1246 - acc: 0.9750 - val_loss: 0.1522 - val_acc: 0.9833\n",
      "Epoch 24/50\n",
      "240/240 [==============================] - 0s 197us/step - loss: 0.1170 - acc: 0.9833 - val_loss: 0.1424 - val_acc: 1.0000\n",
      "Epoch 25/50\n",
      "240/240 [==============================] - 0s 205us/step - loss: 0.1198 - acc: 0.9917 - val_loss: 0.1360 - val_acc: 0.9667\n",
      "Epoch 26/50\n",
      "240/240 [==============================] - 0s 194us/step - loss: 0.1116 - acc: 0.9708 - val_loss: 0.1188 - val_acc: 1.0000\n",
      "Epoch 27/50\n",
      "240/240 [==============================] - 0s 200us/step - loss: 0.1049 - acc: 0.9875 - val_loss: 0.1164 - val_acc: 1.0000\n",
      "Epoch 28/50\n",
      "240/240 [==============================] - 0s 197us/step - loss: 0.1021 - acc: 0.9833 - val_loss: 0.1088 - val_acc: 1.0000\n",
      "Epoch 29/50\n",
      "240/240 [==============================] - 0s 204us/step - loss: 0.0985 - acc: 0.9667 - val_loss: 0.1135 - val_acc: 0.9833\n",
      "Epoch 30/50\n",
      "240/240 [==============================] - 0s 209us/step - loss: 0.0962 - acc: 0.9792 - val_loss: 0.0975 - val_acc: 1.0000\n",
      "Epoch 31/50\n",
      "240/240 [==============================] - 0s 202us/step - loss: 0.0929 - acc: 0.9833 - val_loss: 0.0943 - val_acc: 1.0000\n",
      "Epoch 32/50\n",
      "240/240 [==============================] - 0s 198us/step - loss: 0.0814 - acc: 0.9958 - val_loss: 0.0966 - val_acc: 1.0000\n",
      "Epoch 33/50\n",
      "240/240 [==============================] - 0s 203us/step - loss: 0.0868 - acc: 0.9792 - val_loss: 0.0865 - val_acc: 1.0000\n",
      "Epoch 34/50\n",
      "240/240 [==============================] - 0s 197us/step - loss: 0.0823 - acc: 0.9917 - val_loss: 0.0940 - val_acc: 0.9833\n",
      "Epoch 35/50\n",
      "240/240 [==============================] - 0s 202us/step - loss: 0.0698 - acc: 0.9917 - val_loss: 0.1495 - val_acc: 0.9000\n",
      "Epoch 36/50\n",
      "240/240 [==============================] - 0s 205us/step - loss: 0.0796 - acc: 0.9833 - val_loss: 0.0801 - val_acc: 1.0000\n",
      "Epoch 37/50\n",
      "240/240 [==============================] - 0s 197us/step - loss: 0.0745 - acc: 0.9917 - val_loss: 0.0892 - val_acc: 0.9833\n",
      "Epoch 38/50\n",
      "240/240 [==============================] - 0s 229us/step - loss: 0.0725 - acc: 0.9917 - val_loss: 0.0898 - val_acc: 0.9833\n",
      "Epoch 39/50\n",
      "240/240 [==============================] - 0s 232us/step - loss: 0.0669 - acc: 1.0000 - val_loss: 0.0670 - val_acc: 1.0000\n",
      "Epoch 40/50\n",
      "240/240 [==============================] - 0s 217us/step - loss: 0.0614 - acc: 0.9917 - val_loss: 0.0931 - val_acc: 0.9833\n",
      "Epoch 41/50\n",
      "240/240 [==============================] - 0s 218us/step - loss: 0.0598 - acc: 0.9958 - val_loss: 0.0741 - val_acc: 1.0000\n",
      "Epoch 42/50\n",
      "240/240 [==============================] - 0s 210us/step - loss: 0.0579 - acc: 0.9917 - val_loss: 0.0943 - val_acc: 0.9833\n",
      "Epoch 43/50\n",
      "240/240 [==============================] - 0s 195us/step - loss: 0.0576 - acc: 0.9958 - val_loss: 0.0657 - val_acc: 1.0000\n",
      "Epoch 44/50\n",
      "240/240 [==============================] - 0s 198us/step - loss: 0.0552 - acc: 1.0000 - val_loss: 0.0583 - val_acc: 1.0000\n",
      "Epoch 45/50\n",
      "240/240 [==============================] - 0s 199us/step - loss: 0.0511 - acc: 0.9958 - val_loss: 0.0620 - val_acc: 1.0000\n",
      "Epoch 46/50\n",
      "240/240 [==============================] - 0s 202us/step - loss: 0.0501 - acc: 1.0000 - val_loss: 0.0547 - val_acc: 1.0000\n",
      "Epoch 47/50\n",
      "240/240 [==============================] - 0s 198us/step - loss: 0.0475 - acc: 0.9958 - val_loss: 0.0539 - val_acc: 1.0000\n",
      "Epoch 48/50\n",
      "240/240 [==============================] - 0s 204us/step - loss: 0.0478 - acc: 0.9958 - val_loss: 0.0610 - val_acc: 1.0000\n",
      "Epoch 49/50\n",
      "240/240 [==============================] - 0s 200us/step - loss: 0.0502 - acc: 0.9958 - val_loss: 0.1788 - val_acc: 0.8833\n",
      "Epoch 50/50\n",
      "240/240 [==============================] - 0s 198us/step - loss: 0.0586 - acc: 0.9792 - val_loss: 0.0605 - val_acc: 1.0000\n"
     ]
    },
    {
     "data": {
      "text/plain": [
       "<keras.callbacks.History at 0x131d10410>"
      ]
     },
     "execution_count": 21,
     "metadata": {},
     "output_type": "execute_result"
    }
   ],
   "source": [
    "model.fit(X_train, Y_train, epochs=50, batch_size=32, validation_split = 0.2)"
   ]
  },
  {
   "cell_type": "markdown",
   "metadata": {},
   "source": [
    "The current neural network performs well, with an accuaracy of 1 for both the training and test set. There is therefore no overfitting."
   ]
  },
  {
   "cell_type": "markdown",
   "metadata": {},
   "source": [
    "We will now perform a test on manually generated shapes."
   ]
  },
  {
   "cell_type": "code",
   "execution_count": 22,
   "metadata": {},
   "outputs": [
    {
     "data": {
      "text/plain": [
       "array([[1., 0., 0.]], dtype=float32)"
      ]
     },
     "execution_count": 22,
     "metadata": {},
     "output_type": "execute_result"
    }
   ],
   "source": [
    "X_test = generate_a_rectangle(20)\n",
    "X_test = X_test.reshape(1, X_test.shape[0])\n",
    "model.predict(X_test)"
   ]
  },
  {
   "cell_type": "code",
   "execution_count": 23,
   "metadata": {},
   "outputs": [
    {
     "data": {
      "text/plain": [
       "array([[0., 1., 0.]], dtype=float32)"
      ]
     },
     "execution_count": 23,
     "metadata": {},
     "output_type": "execute_result"
    }
   ],
   "source": [
    "X_test = generate_a_disk(20)\n",
    "X_test = X_test.reshape(1, X_test.shape[0])\n",
    "model.predict(X_test)"
   ]
  },
  {
   "cell_type": "code",
   "execution_count": 24,
   "metadata": {},
   "outputs": [
    {
     "data": {
      "text/plain": [
       "array([[0., 0., 1.]], dtype=float32)"
      ]
     },
     "execution_count": 24,
     "metadata": {},
     "output_type": "execute_result"
    }
   ],
   "source": [
    "[X_test,_] = generate_a_triangle(20)\n",
    "X_test = X_test.reshape(1, X_test.shape[0])\n",
    "model.predict(X_test)"
   ]
  },
  {
   "cell_type": "markdown",
   "metadata": {},
   "source": [
    "The classifier performs well on those 3 instances"
   ]
  },
  {
   "cell_type": "markdown",
   "metadata": {},
   "source": [
    "## 4 Visualization of the Solution - stochastic gradient descent"
   ]
  },
  {
   "cell_type": "markdown",
   "metadata": {},
   "source": [
    "Get information regarding the shapes of all weights"
   ]
  },
  {
   "cell_type": "code",
   "execution_count": 25,
   "metadata": {},
   "outputs": [
    {
     "name": "stdout",
     "output_type": "stream",
     "text": [
      "(5184, 121)\n",
      "(121,)\n",
      "(121, 64)\n",
      "(64,)\n",
      "(64, 3)\n",
      "(3,)\n"
     ]
    }
   ],
   "source": [
    "for w in model.get_weights():\n",
    "    print(w.shape)"
   ]
  },
  {
   "cell_type": "markdown",
   "metadata": {},
   "source": [
    "Visualisation of the first layer. The output doesn't seem to be comprehensible. We will also visualize further layers, more difficult to interpret."
   ]
  },
  {
   "cell_type": "code",
   "execution_count": 26,
   "metadata": {},
   "outputs": [
    {
     "data": {
      "text/plain": [
       "<matplotlib.image.AxesImage at 0x133da1710>"
      ]
     },
     "execution_count": 26,
     "metadata": {},
     "output_type": "execute_result"
    },
    {
     "data": {
      "image/png": "[encoded data removed]",
      "text/plain": [
       "<Figure size 432x288 with 1 Axes>"
      ]
     },
     "metadata": {
      "needs_background": "light"
     },
     "output_type": "display_data"
    }
   ],
   "source": [
    "plt.imshow(model.get_weights()[0][:,1].reshape(72, 72))"
   ]
  },
  {
   "cell_type": "code",
   "execution_count": 27,
   "metadata": {},
   "outputs": [
    {
     "data": {
      "text/plain": [
       "<matplotlib.image.AxesImage at 0x133ec5b90>"
      ]
     },
     "execution_count": 27,
     "metadata": {},
     "output_type": "execute_result"
    },
    {
     "data": {
      "image/png": "[encoded data removed]",
      "text/plain": [
       "<Figure size 432x288 with 1 Axes>"
      ]
     },
     "metadata": {
      "needs_background": "light"
     },
     "output_type": "display_data"
    }
   ],
   "source": [
    "plt.imshow(model.get_weights()[2][:,0].reshape(11, 11))"
   ]
  },
  {
   "cell_type": "code",
   "execution_count": 28,
   "metadata": {},
   "outputs": [
    {
     "data": {
      "text/plain": [
       "<matplotlib.image.AxesImage at 0x133fbb050>"
      ]
     },
     "execution_count": 28,
     "metadata": {},
     "output_type": "execute_result"
    },
    {
     "data": {
      "image/png": "[encoded data removed]",
      "text/plain": [
       "<Figure size 432x288 with 1 Axes>"
      ]
     },
     "metadata": {
      "needs_background": "light"
     },
     "output_type": "display_data"
    }
   ],
   "source": [
    "plt.imshow(model.get_weights()[4][:,2].reshape(8, 8))"
   ]
  },
  {
   "cell_type": "markdown",
   "metadata": {},
   "source": [
    "## 3 Simple Classification - Adam optimizer"
   ]
  },
  {
   "cell_type": "code",
   "execution_count": 29,
   "metadata": {},
   "outputs": [],
   "source": [
    "from keras.models import Sequential\n",
    "model2 = Sequential()\n",
    "\n",
    "from keras.layers import Dense, Activation\n",
    "nb_neurons = 2500\n",
    "model2 = Sequential([\n",
    "    Dense(nb_neurons, input_shape=(5184,), activation= 'relu'),\n",
    "    Dense(900, activation = 'relu'),\n",
    "    Dense(3, activation = 'softmax')])\n",
    "\n",
    "from keras.optimizers import Adam\n",
    "adam = Adam(lr=0.0001,\n",
    "            beta_1=0.9, beta_2=0.999,\n",
    "            epsilon=None, decay=0.0,\n",
    "            amsgrad=False)\n",
    "\n",
    "model2.compile(loss='categorical_crossentropy', optimizer=adam, metrics =['accuracy'])"
   ]
  },
  {
   "cell_type": "code",
   "execution_count": 30,
   "metadata": {
    "scrolled": true
   },
   "outputs": [
    {
     "name": "stdout",
     "output_type": "stream",
     "text": [
      "Train on 240 samples, validate on 60 samples\n",
      "Epoch 1/15\n",
      "240/240 [==============================] - 3s 11ms/step - loss: 2.0857 - acc: 0.4958 - val_loss: 1.3254 - val_acc: 0.5833\n",
      "Epoch 2/15\n",
      "240/240 [==============================] - 2s 8ms/step - loss: 0.8738 - acc: 0.6250 - val_loss: 0.7437 - val_acc: 0.7667\n",
      "Epoch 3/15\n",
      "240/240 [==============================] - 2s 9ms/step - loss: 0.6393 - acc: 0.7458 - val_loss: 0.6613 - val_acc: 0.7333\n",
      "Epoch 4/15\n",
      "240/240 [==============================] - 2s 9ms/step - loss: 0.5617 - acc: 0.7500 - val_loss: 0.8062 - val_acc: 0.7000\n",
      "Epoch 5/15\n",
      "240/240 [==============================] - 2s 9ms/step - loss: 0.4527 - acc: 0.7708 - val_loss: 0.6095 - val_acc: 0.7833\n",
      "Epoch 6/15\n",
      "240/240 [==============================] - 2s 8ms/step - loss: 0.3612 - acc: 0.8500 - val_loss: 0.4853 - val_acc: 0.8000\n",
      "Epoch 7/15\n",
      "240/240 [==============================] - 2s 8ms/step - loss: 0.2737 - acc: 0.8875 - val_loss: 0.2658 - val_acc: 0.8833\n",
      "Epoch 8/15\n",
      "240/240 [==============================] - 2s 8ms/step - loss: 0.1915 - acc: 0.9333 - val_loss: 0.2560 - val_acc: 0.9000\n",
      "Epoch 9/15\n",
      "240/240 [==============================] - 2s 8ms/step - loss: 0.1692 - acc: 0.9417 - val_loss: 0.1972 - val_acc: 1.0000\n",
      "Epoch 10/15\n",
      "240/240 [==============================] - 2s 9ms/step - loss: 0.1453 - acc: 0.9708 - val_loss: 0.1679 - val_acc: 0.9667\n",
      "Epoch 11/15\n",
      "240/240 [==============================] - 2s 8ms/step - loss: 0.1187 - acc: 0.9958 - val_loss: 0.1524 - val_acc: 1.0000\n",
      "Epoch 12/15\n",
      "240/240 [==============================] - 2s 8ms/step - loss: 0.1060 - acc: 1.0000 - val_loss: 0.1278 - val_acc: 1.0000\n",
      "Epoch 13/15\n",
      "240/240 [==============================] - 2s 8ms/step - loss: 0.0980 - acc: 0.9958 - val_loss: 0.1178 - val_acc: 1.0000\n",
      "Epoch 14/15\n",
      "240/240 [==============================] - 2s 8ms/step - loss: 0.1243 - acc: 0.9667 - val_loss: 0.1329 - val_acc: 0.9833\n",
      "Epoch 15/15\n",
      "240/240 [==============================] - 2s 9ms/step - loss: 0.1683 - acc: 0.9417 - val_loss: 0.2853 - val_acc: 0.8833\n"
     ]
    },
    {
     "data": {
      "text/plain": [
       "<keras.callbacks.History at 0x133fdc890>"
      ]
     },
     "execution_count": 30,
     "metadata": {},
     "output_type": "execute_result"
    }
   ],
   "source": [
    "model2.fit(X_train, Y_train, epochs=15, batch_size=25, validation_split = 0.2)"
   ]
  },
  {
   "cell_type": "code",
   "execution_count": 31,
   "metadata": {},
   "outputs": [
    {
     "data": {
      "text/plain": [
       "array([[1., 0., 0.]], dtype=float32)"
      ]
     },
     "execution_count": 31,
     "metadata": {},
     "output_type": "execute_result"
    }
   ],
   "source": [
    "X_test = generate_a_rectangle(20)\n",
    "X_test = X_test.reshape(1, X_test.shape[0])\n",
    "model2.predict(X_test)"
   ]
  },
  {
   "cell_type": "code",
   "execution_count": 32,
   "metadata": {},
   "outputs": [
    {
     "data": {
      "text/plain": [
       "array([[0., 1., 0.]], dtype=float32)"
      ]
     },
     "execution_count": 32,
     "metadata": {},
     "output_type": "execute_result"
    }
   ],
   "source": [
    "X_test = generate_a_disk(20)\n",
    "X_test = X_test.reshape(1, X_test.shape[0])\n",
    "model.predict(X_test)"
   ]
  },
  {
   "cell_type": "code",
   "execution_count": 33,
   "metadata": {},
   "outputs": [
    {
     "data": {
      "text/plain": [
       "array([[0., 0., 1.]], dtype=float32)"
      ]
     },
     "execution_count": 33,
     "metadata": {},
     "output_type": "execute_result"
    }
   ],
   "source": [
    "[X_test,_] = generate_a_triangle(20)\n",
    "X_test = X_test.reshape(1, X_test.shape[0])\n",
    "model.predict(X_test)"
   ]
  },
  {
   "cell_type": "markdown",
   "metadata": {},
   "source": [
    "Adam optimizer works well with a low learning right. Higher values have shown to converge on a non optimal solution."
   ]
  },
  {
   "cell_type": "markdown",
   "metadata": {},
   "source": [
    "## 4 Visualization of the Solution - Adam optimizer"
   ]
  },
  {
   "cell_type": "code",
   "execution_count": 34,
   "metadata": {},
   "outputs": [
    {
     "name": "stdout",
     "output_type": "stream",
     "text": [
      "(5184, 2500)\n",
      "(2500,)\n",
      "(2500, 900)\n",
      "(900,)\n",
      "(900, 3)\n",
      "(3,)\n"
     ]
    }
   ],
   "source": [
    "for w in model2.get_weights():\n",
    "    print(w.shape)"
   ]
  },
  {
   "cell_type": "code",
   "execution_count": 36,
   "metadata": {},
   "outputs": [
    {
     "data": {
      "text/plain": [
       "<matplotlib.image.AxesImage at 0x131cd6710>"
      ]
     },
     "execution_count": 36,
     "metadata": {},
     "output_type": "execute_result"
    },
    {
     "data": {
      "image/png": "[encoded data removed]",
      "text/plain": [
       "<Figure size 432x288 with 1 Axes>"
      ]
     },
     "metadata": {
      "needs_background": "light"
     },
     "output_type": "display_data"
    }
   ],
   "source": [
    "plt.imshow(model2.get_weights()[0][:,0].reshape(72, 72))"
   ]
  },
  {
   "cell_type": "code",
   "execution_count": 37,
   "metadata": {},
   "outputs": [
    {
     "data": {
      "text/plain": [
       "<matplotlib.image.AxesImage at 0x12c204b90>"
      ]
     },
     "execution_count": 37,
     "metadata": {},
     "output_type": "execute_result"
    },
    {
     "data": {
      "image/png": "[encoded data removed]",
      "text/plain": [
       "<Figure size 432x288 with 1 Axes>"
      ]
     },
     "metadata": {
      "needs_background": "light"
     },
     "output_type": "display_data"
    }
   ],
   "source": [
    "plt.imshow(model2.get_weights()[2][:,4].reshape(50, 50))"
   ]
  },
  {
   "cell_type": "code",
   "execution_count": 38,
   "metadata": {},
   "outputs": [
    {
     "data": {
      "text/plain": [
       "<matplotlib.image.AxesImage at 0x131a86690>"
      ]
     },
     "execution_count": 38,
     "metadata": {},
     "output_type": "execute_result"
    },
    {
     "data": {
      "image/png": "[encoded data removed]",
      "text/plain": [
       "<Figure size 432x288 with 1 Axes>"
      ]
     },
     "metadata": {
      "needs_background": "light"
     },
     "output_type": "display_data"
    }
   ],
   "source": [
    "plt.imshow(model2.get_weights()[4][:,1].reshape(30, 30))"
   ]
  },
  {
   "cell_type": "markdown",
   "metadata": {},
   "source": [
    "No output seems to be interpretable. However, in the process of finding this optimal solution, we were able to notive that under other training parameters, the weights did output interesting values."
   ]
  },
  {
   "cell_type": "code",
   "execution_count": 39,
   "metadata": {},
   "outputs": [],
   "source": [
    "from keras.models import Sequential\n",
    "model3 = Sequential()\n",
    "\n",
    "from keras.layers import Dense, Activation\n",
    "nb_neurons = 2500\n",
    "model3 = Sequential([\n",
    "    Dense(nb_neurons, input_shape=(5184,), activation= 'relu'),\n",
    "    Dense(3, activation = 'softmax')])\n",
    "\n",
    "from keras.optimizers import Adam\n",
    "adam = Adam(lr=0.01,\n",
    "            beta_1=0.9, beta_2=0.999,\n",
    "            epsilon=None, decay=0.0,\n",
    "            amsgrad=False)\n",
    "\n",
    "model3.compile(loss='categorical_crossentropy', optimizer=adam, metrics =['accuracy'])"
   ]
  },
  {
   "cell_type": "code",
   "execution_count": 40,
   "metadata": {
    "scrolled": true
   },
   "outputs": [
    {
     "name": "stdout",
     "output_type": "stream",
     "text": [
      "Train on 240 samples, validate on 60 samples\n",
      "Epoch 1/5\n",
      "240/240 [==============================] - 2s 8ms/step - loss: 9.5306 - acc: 0.3500 - val_loss: 9.1336 - val_acc: 0.4333\n",
      "Epoch 2/5\n",
      "240/240 [==============================] - 1s 6ms/step - loss: 10.5439 - acc: 0.3458 - val_loss: 9.1336 - val_acc: 0.4333\n",
      "Epoch 3/5\n",
      "240/240 [==============================] - 1s 6ms/step - loss: 10.5439 - acc: 0.3458 - val_loss: 9.1336 - val_acc: 0.4333\n",
      "Epoch 4/5\n",
      "240/240 [==============================] - 1s 6ms/step - loss: 10.5439 - acc: 0.3458 - val_loss: 9.1336 - val_acc: 0.4333\n",
      "Epoch 5/5\n",
      "240/240 [==============================] - 1s 6ms/step - loss: 10.5439 - acc: 0.3458 - val_loss: 9.1336 - val_acc: 0.4333\n"
     ]
    },
    {
     "data": {
      "text/plain": [
       "<keras.callbacks.History at 0x131a88450>"
      ]
     },
     "execution_count": 40,
     "metadata": {},
     "output_type": "execute_result"
    }
   ],
   "source": [
    "model3.fit(X_train, Y_train, epochs=5, batch_size=32, validation_split = 0.2)"
   ]
  },
  {
   "cell_type": "code",
   "execution_count": 41,
   "metadata": {},
   "outputs": [
    {
     "data": {
      "text/plain": [
       "<matplotlib.image.AxesImage at 0x12d49f350>"
      ]
     },
     "execution_count": 41,
     "metadata": {},
     "output_type": "execute_result"
    },
    {
     "data": {
      "image/png": "[encoded data removed]",
      "text/plain": [
       "<Figure size 432x288 with 1 Axes>"
      ]
     },
     "metadata": {
      "needs_background": "light"
     },
     "output_type": "display_data"
    }
   ],
   "source": [
    "plt.imshow(model3.get_weights()[0][:,6].reshape(72, 72))"
   ]
  },
  {
   "cell_type": "markdown",
   "metadata": {},
   "source": [
    "For instance, we can here witness that at the first level of the neural network, some neurones are clearly testing the shapes. In this particular neurone, we can discern the shapes of a triangle and a square, probably testing the pixels specific to the square.\n",
    "This understandable step is not reproductible with the well-performing Adam optimizer above."
   ]
  },
  {
   "cell_type": "markdown",
   "metadata": {},
   "source": [
    "## 5 A More Difficult Classification Problem"
   ]
  },
  {
   "cell_type": "code",
   "execution_count": 42,
   "metadata": {
    "scrolled": true
   },
   "outputs": [
    {
     "name": "stdout",
     "output_type": "stream",
     "text": [
      "Creating data:\n",
      "0\n",
      "10\n",
      "20\n",
      "30\n",
      "40\n",
      "50\n",
      "60\n",
      "70\n",
      "80\n",
      "90\n",
      "100\n",
      "110\n",
      "120\n",
      "130\n",
      "140\n",
      "150\n",
      "160\n",
      "170\n",
      "180\n",
      "190\n",
      "200\n",
      "210\n",
      "220\n",
      "230\n",
      "240\n",
      "250\n",
      "260\n",
      "270\n",
      "280\n",
      "290\n"
     ]
    }
   ],
   "source": [
    "[X_train, Y_train] = generate_dataset_classification(300, 20, True)"
   ]
  },
  {
   "cell_type": "code",
   "execution_count": 43,
   "metadata": {},
   "outputs": [
    {
     "data": {
      "text/plain": [
       "<matplotlib.image.AxesImage at 0x15fc92c50>"
      ]
     },
     "execution_count": 43,
     "metadata": {},
     "output_type": "execute_result"
    },
    {
     "data": {
      "image/png": "[encoded data removed]",
      "text/plain": [
       "<Figure size 432x288 with 1 Axes>"
      ]
     },
     "metadata": {
      "needs_background": "light"
     },
     "output_type": "display_data"
    }
   ],
   "source": [
    "plt.imshow(X_train[10,:].reshape(72, 72))"
   ]
  },
  {
   "cell_type": "code",
   "execution_count": 44,
   "metadata": {},
   "outputs": [
    {
     "data": {
      "text/plain": [
       "(300, 3)"
      ]
     },
     "execution_count": 44,
     "metadata": {},
     "output_type": "execute_result"
    }
   ],
   "source": [
    "Y_train.shape"
   ]
  },
  {
   "cell_type": "code",
   "execution_count": 45,
   "metadata": {},
   "outputs": [],
   "source": [
    "from keras.models import Sequential\n",
    "model4 = Sequential()\n",
    "\n",
    "from keras.layers import Dense, Activation\n",
    "nb_neurons = 121\n",
    "model4 = Sequential([\n",
    "  Dense(nb_neurons, input_shape=(5184,)),\n",
    "  Activation('relu'),\n",
    "  Dense(64),\n",
    "  Activation('relu'),\n",
    "  Dense(3, activation ='softmax')])\n",
    "\n",
    "from keras.optimizers import SGD\n",
    "sgd = SGD(lr=0.001,\n",
    "          decay=1e-6, momentum=0.9,\n",
    "nesterov=True)"
   ]
  },
  {
   "cell_type": "code",
   "execution_count": 46,
   "metadata": {},
   "outputs": [],
   "source": [
    "model4.compile(loss='categorical_crossentropy', optimizer=sgd, metrics =['accuracy'])"
   ]
  },
  {
   "cell_type": "code",
   "execution_count": 47,
   "metadata": {
    "scrolled": true
   },
   "outputs": [
    {
     "name": "stdout",
     "output_type": "stream",
     "text": [
      "Train on 240 samples, validate on 60 samples\n",
      "Epoch 1/100\n",
      "240/240 [==============================] - 0s 1ms/step - loss: 1.1812 - acc: 0.3708 - val_loss: 1.2228 - val_acc: 0.3167\n",
      "Epoch 2/100\n",
      "240/240 [==============================] - 0s 229us/step - loss: 1.0010 - acc: 0.4917 - val_loss: 0.9613 - val_acc: 0.4667\n",
      "Epoch 3/100\n",
      "240/240 [==============================] - 0s 236us/step - loss: 0.9214 - acc: 0.5333 - val_loss: 0.9757 - val_acc: 0.4167\n",
      "Epoch 4/100\n",
      "240/240 [==============================] - 0s 238us/step - loss: 0.8344 - acc: 0.5958 - val_loss: 1.0524 - val_acc: 0.6167\n",
      "Epoch 5/100\n",
      "240/240 [==============================] - 0s 256us/step - loss: 0.8531 - acc: 0.6000 - val_loss: 0.8612 - val_acc: 0.5667\n",
      "Epoch 6/100\n",
      "240/240 [==============================] - 0s 255us/step - loss: 0.7943 - acc: 0.6375 - val_loss: 0.9741 - val_acc: 0.5333\n",
      "Epoch 7/100\n",
      "240/240 [==============================] - 0s 241us/step - loss: 0.7578 - acc: 0.6375 - val_loss: 0.9947 - val_acc: 0.4833\n",
      "Epoch 8/100\n",
      "240/240 [==============================] - 0s 256us/step - loss: 0.7956 - acc: 0.6083 - val_loss: 0.8163 - val_acc: 0.5500\n",
      "Epoch 9/100\n",
      "240/240 [==============================] - 0s 244us/step - loss: 0.7494 - acc: 0.6208 - val_loss: 0.8265 - val_acc: 0.5333\n",
      "Epoch 10/100\n",
      "240/240 [==============================] - 0s 234us/step - loss: 0.7092 - acc: 0.6542 - val_loss: 1.0817 - val_acc: 0.4167\n",
      "Epoch 11/100\n",
      "240/240 [==============================] - 0s 235us/step - loss: 0.7356 - acc: 0.6208 - val_loss: 1.0105 - val_acc: 0.4833\n",
      "Epoch 12/100\n",
      "240/240 [==============================] - 0s 235us/step - loss: 0.7226 - acc: 0.6792 - val_loss: 0.7696 - val_acc: 0.6167\n",
      "Epoch 13/100\n",
      "240/240 [==============================] - 0s 233us/step - loss: 0.6724 - acc: 0.7000 - val_loss: 0.7829 - val_acc: 0.5667\n",
      "Epoch 14/100\n",
      "240/240 [==============================] - 0s 231us/step - loss: 0.6890 - acc: 0.6375 - val_loss: 0.8952 - val_acc: 0.5333\n",
      "Epoch 15/100\n",
      "240/240 [==============================] - 0s 229us/step - loss: 0.6664 - acc: 0.6792 - val_loss: 0.7663 - val_acc: 0.6167\n",
      "Epoch 16/100\n",
      "240/240 [==============================] - 0s 226us/step - loss: 0.6376 - acc: 0.7208 - val_loss: 0.7691 - val_acc: 0.6167\n",
      "Epoch 17/100\n",
      "240/240 [==============================] - 0s 232us/step - loss: 0.6306 - acc: 0.7083 - val_loss: 0.8137 - val_acc: 0.5333\n",
      "Epoch 18/100\n",
      "240/240 [==============================] - 0s 229us/step - loss: 0.6370 - acc: 0.6625 - val_loss: 0.7959 - val_acc: 0.5500\n",
      "Epoch 19/100\n",
      "240/240 [==============================] - 0s 233us/step - loss: 0.6238 - acc: 0.6792 - val_loss: 0.8057 - val_acc: 0.5833\n",
      "Epoch 20/100\n",
      "240/240 [==============================] - 0s 245us/step - loss: 0.6129 - acc: 0.6917 - val_loss: 0.7716 - val_acc: 0.6167\n",
      "Epoch 21/100\n",
      "240/240 [==============================] - 0s 225us/step - loss: 0.6115 - acc: 0.6875 - val_loss: 0.9072 - val_acc: 0.5500\n",
      "Epoch 22/100\n",
      "240/240 [==============================] - 0s 250us/step - loss: 0.6162 - acc: 0.6708 - val_loss: 0.7446 - val_acc: 0.6333\n",
      "Epoch 23/100\n",
      "240/240 [==============================] - 0s 237us/step - loss: 0.5807 - acc: 0.7167 - val_loss: 0.7993 - val_acc: 0.5000\n",
      "Epoch 24/100\n",
      "240/240 [==============================] - 0s 227us/step - loss: 0.5938 - acc: 0.6875 - val_loss: 0.7392 - val_acc: 0.6000\n",
      "Epoch 25/100\n",
      "240/240 [==============================] - 0s 220us/step - loss: 0.5610 - acc: 0.7292 - val_loss: 0.7895 - val_acc: 0.6167\n",
      "Epoch 26/100\n",
      "240/240 [==============================] - 0s 231us/step - loss: 0.5411 - acc: 0.7625 - val_loss: 0.7780 - val_acc: 0.6667\n",
      "Epoch 27/100\n",
      "240/240 [==============================] - 0s 226us/step - loss: 0.5646 - acc: 0.7417 - val_loss: 0.7963 - val_acc: 0.5167\n",
      "Epoch 28/100\n",
      "240/240 [==============================] - 0s 224us/step - loss: 0.5948 - acc: 0.7208 - val_loss: 0.7563 - val_acc: 0.6667\n",
      "Epoch 29/100\n",
      "240/240 [==============================] - 0s 225us/step - loss: 0.5366 - acc: 0.7458 - val_loss: 0.8012 - val_acc: 0.5833\n",
      "Epoch 30/100\n",
      "240/240 [==============================] - 0s 227us/step - loss: 0.5187 - acc: 0.7917 - val_loss: 0.7832 - val_acc: 0.5833\n",
      "Epoch 31/100\n",
      "240/240 [==============================] - 0s 237us/step - loss: 0.5355 - acc: 0.7583 - val_loss: 0.9375 - val_acc: 0.5167\n",
      "Epoch 32/100\n",
      "240/240 [==============================] - 0s 229us/step - loss: 0.5408 - acc: 0.7458 - val_loss: 0.7599 - val_acc: 0.6500\n",
      "Epoch 33/100\n",
      "240/240 [==============================] - 0s 259us/step - loss: 0.5441 - acc: 0.7333 - val_loss: 0.7339 - val_acc: 0.6500\n",
      "Epoch 34/100\n",
      "240/240 [==============================] - 0s 236us/step - loss: 0.5509 - acc: 0.7542 - val_loss: 0.7828 - val_acc: 0.6333\n",
      "Epoch 35/100\n",
      "240/240 [==============================] - 0s 234us/step - loss: 0.4914 - acc: 0.8292 - val_loss: 0.8482 - val_acc: 0.6167\n",
      "Epoch 36/100\n",
      "240/240 [==============================] - 0s 230us/step - loss: 0.5545 - acc: 0.7458 - val_loss: 0.9327 - val_acc: 0.5167\n",
      "Epoch 37/100\n",
      "240/240 [==============================] - 0s 228us/step - loss: 0.5100 - acc: 0.7667 - val_loss: 0.9009 - val_acc: 0.5333\n",
      "Epoch 38/100\n",
      "240/240 [==============================] - 0s 230us/step - loss: 0.5146 - acc: 0.7417 - val_loss: 0.8047 - val_acc: 0.6500\n",
      "Epoch 39/100\n",
      "240/240 [==============================] - 0s 229us/step - loss: 0.4752 - acc: 0.8042 - val_loss: 0.9081 - val_acc: 0.5167\n",
      "Epoch 40/100\n",
      "240/240 [==============================] - 0s 231us/step - loss: 0.4778 - acc: 0.7625 - val_loss: 0.8438 - val_acc: 0.5500\n",
      "Epoch 41/100\n",
      "240/240 [==============================] - 0s 239us/step - loss: 0.4453 - acc: 0.8542 - val_loss: 0.8265 - val_acc: 0.6667\n",
      "Epoch 42/100\n",
      "240/240 [==============================] - 0s 237us/step - loss: 0.4628 - acc: 0.7958 - val_loss: 0.7861 - val_acc: 0.5667\n",
      "Epoch 43/100\n",
      "240/240 [==============================] - 0s 222us/step - loss: 0.4312 - acc: 0.8458 - val_loss: 0.7653 - val_acc: 0.7167\n",
      "Epoch 44/100\n",
      "240/240 [==============================] - 0s 226us/step - loss: 0.4882 - acc: 0.7792 - val_loss: 0.9866 - val_acc: 0.4833\n",
      "Epoch 45/100\n",
      "240/240 [==============================] - 0s 227us/step - loss: 0.4558 - acc: 0.7917 - val_loss: 1.0936 - val_acc: 0.5333\n",
      "Epoch 46/100\n",
      "240/240 [==============================] - 0s 221us/step - loss: 0.5328 - acc: 0.7333 - val_loss: 0.9028 - val_acc: 0.5333\n",
      "Epoch 47/100\n",
      "240/240 [==============================] - 0s 230us/step - loss: 0.4286 - acc: 0.8500 - val_loss: 0.8767 - val_acc: 0.5333\n",
      "Epoch 48/100\n",
      "240/240 [==============================] - 0s 225us/step - loss: 0.4351 - acc: 0.8208 - val_loss: 0.8687 - val_acc: 0.5833\n",
      "Epoch 49/100\n",
      "240/240 [==============================] - 0s 225us/step - loss: 0.4500 - acc: 0.7875 - val_loss: 0.7744 - val_acc: 0.7167\n",
      "Epoch 50/100\n",
      "240/240 [==============================] - 0s 224us/step - loss: 0.4088 - acc: 0.8458 - val_loss: 0.8547 - val_acc: 0.6000\n",
      "Epoch 51/100\n",
      "240/240 [==============================] - 0s 229us/step - loss: 0.4483 - acc: 0.7958 - val_loss: 0.9616 - val_acc: 0.4833\n",
      "Epoch 52/100\n",
      "240/240 [==============================] - 0s 238us/step - loss: 0.5094 - acc: 0.7250 - val_loss: 0.9447 - val_acc: 0.5000\n",
      "Epoch 53/100\n",
      "240/240 [==============================] - 0s 217us/step - loss: 0.4263 - acc: 0.8125 - val_loss: 1.1058 - val_acc: 0.5333\n",
      "Epoch 54/100\n",
      "240/240 [==============================] - 0s 257us/step - loss: 0.4532 - acc: 0.8042 - val_loss: 0.8258 - val_acc: 0.6167\n",
      "Epoch 55/100\n",
      "240/240 [==============================] - 0s 219us/step - loss: 0.4183 - acc: 0.8500 - val_loss: 0.8890 - val_acc: 0.5167\n",
      "Epoch 56/100\n",
      "240/240 [==============================] - 0s 221us/step - loss: 0.4199 - acc: 0.8167 - val_loss: 1.1227 - val_acc: 0.6000\n",
      "Epoch 57/100\n",
      "240/240 [==============================] - 0s 227us/step - loss: 0.5221 - acc: 0.7750 - val_loss: 0.8333 - val_acc: 0.5167\n",
      "Epoch 58/100\n",
      "240/240 [==============================] - 0s 221us/step - loss: 0.3818 - acc: 0.8458 - val_loss: 0.7764 - val_acc: 0.6833\n",
      "Epoch 59/100\n",
      "240/240 [==============================] - 0s 219us/step - loss: 0.3618 - acc: 0.8833 - val_loss: 0.9143 - val_acc: 0.5333\n",
      "Epoch 60/100\n",
      "240/240 [==============================] - 0s 226us/step - loss: 0.4050 - acc: 0.8000 - val_loss: 0.9263 - val_acc: 0.5667\n"
     ]
    },
    {
     "name": "stdout",
     "output_type": "stream",
     "text": [
      "Epoch 61/100\n",
      "240/240 [==============================] - 0s 223us/step - loss: 0.3439 - acc: 0.8958 - val_loss: 1.0151 - val_acc: 0.6833\n",
      "Epoch 62/100\n",
      "240/240 [==============================] - 0s 234us/step - loss: 0.3968 - acc: 0.8583 - val_loss: 0.8834 - val_acc: 0.5667\n",
      "Epoch 63/100\n",
      "240/240 [==============================] - 0s 215us/step - loss: 0.3556 - acc: 0.8542 - val_loss: 1.0421 - val_acc: 0.5333\n",
      "Epoch 64/100\n",
      "240/240 [==============================] - 0s 259us/step - loss: 0.4142 - acc: 0.8250 - val_loss: 0.7958 - val_acc: 0.6500\n",
      "Epoch 65/100\n",
      "240/240 [==============================] - 0s 228us/step - loss: 0.3684 - acc: 0.8333 - val_loss: 0.8148 - val_acc: 0.6500\n",
      "Epoch 66/100\n",
      "240/240 [==============================] - 0s 228us/step - loss: 0.3128 - acc: 0.8958 - val_loss: 0.9173 - val_acc: 0.5667\n",
      "Epoch 67/100\n",
      "240/240 [==============================] - 0s 227us/step - loss: 0.3263 - acc: 0.8833 - val_loss: 0.9019 - val_acc: 0.5833\n",
      "Epoch 68/100\n",
      "240/240 [==============================] - 0s 225us/step - loss: 0.3428 - acc: 0.8625 - val_loss: 0.8451 - val_acc: 0.6000\n",
      "Epoch 69/100\n",
      "240/240 [==============================] - 0s 215us/step - loss: 0.3877 - acc: 0.8125 - val_loss: 0.9171 - val_acc: 0.5500\n",
      "Epoch 70/100\n",
      "240/240 [==============================] - 0s 214us/step - loss: 0.3574 - acc: 0.8208 - val_loss: 0.9276 - val_acc: 0.5167\n",
      "Epoch 71/100\n",
      "240/240 [==============================] - 0s 214us/step - loss: 0.3685 - acc: 0.8375 - val_loss: 0.9837 - val_acc: 0.6000\n",
      "Epoch 72/100\n",
      "240/240 [==============================] - 0s 216us/step - loss: 0.2956 - acc: 0.9083 - val_loss: 0.8366 - val_acc: 0.6000\n",
      "Epoch 73/100\n",
      "240/240 [==============================] - 0s 226us/step - loss: 0.2921 - acc: 0.9167 - val_loss: 1.0268 - val_acc: 0.6000\n",
      "Epoch 74/100\n",
      "240/240 [==============================] - 0s 231us/step - loss: 0.3425 - acc: 0.8500 - val_loss: 0.7976 - val_acc: 0.7333\n",
      "Epoch 75/100\n",
      "240/240 [==============================] - 0s 218us/step - loss: 0.2878 - acc: 0.8792 - val_loss: 0.9839 - val_acc: 0.5833\n",
      "Epoch 76/100\n",
      "240/240 [==============================] - 0s 247us/step - loss: 0.2705 - acc: 0.9333 - val_loss: 0.8317 - val_acc: 0.6167\n",
      "Epoch 77/100\n",
      "240/240 [==============================] - 0s 221us/step - loss: 0.2991 - acc: 0.8750 - val_loss: 0.9201 - val_acc: 0.5833\n",
      "Epoch 78/100\n",
      "240/240 [==============================] - 0s 223us/step - loss: 0.2901 - acc: 0.8833 - val_loss: 0.9180 - val_acc: 0.6000\n",
      "Epoch 79/100\n",
      "240/240 [==============================] - 0s 212us/step - loss: 0.2552 - acc: 0.9250 - val_loss: 1.0504 - val_acc: 0.5500\n",
      "Epoch 80/100\n",
      "240/240 [==============================] - 0s 214us/step - loss: 0.3068 - acc: 0.8708 - val_loss: 1.1327 - val_acc: 0.5333\n",
      "Epoch 81/100\n",
      "240/240 [==============================] - 0s 213us/step - loss: 0.2572 - acc: 0.9333 - val_loss: 0.9914 - val_acc: 0.6167\n",
      "Epoch 82/100\n",
      "240/240 [==============================] - 0s 218us/step - loss: 0.2293 - acc: 0.9375 - val_loss: 0.8359 - val_acc: 0.6833\n",
      "Epoch 83/100\n",
      "240/240 [==============================] - 0s 219us/step - loss: 0.2306 - acc: 0.9458 - val_loss: 0.8416 - val_acc: 0.7167\n",
      "Epoch 84/100\n",
      "240/240 [==============================] - 0s 221us/step - loss: 0.2482 - acc: 0.9083 - val_loss: 0.8674 - val_acc: 0.6333\n",
      "Epoch 85/100\n",
      "240/240 [==============================] - 0s 226us/step - loss: 0.2360 - acc: 0.9333 - val_loss: 0.8699 - val_acc: 0.6667\n",
      "Epoch 86/100\n",
      "240/240 [==============================] - 0s 229us/step - loss: 0.2562 - acc: 0.9000 - val_loss: 1.5016 - val_acc: 0.4833\n",
      "Epoch 87/100\n",
      "240/240 [==============================] - 0s 217us/step - loss: 0.4406 - acc: 0.7750 - val_loss: 0.8812 - val_acc: 0.6000\n",
      "Epoch 88/100\n",
      "240/240 [==============================] - 0s 213us/step - loss: 0.2498 - acc: 0.9083 - val_loss: 0.8534 - val_acc: 0.6667\n",
      "Epoch 89/100\n",
      "240/240 [==============================] - 0s 222us/step - loss: 0.2535 - acc: 0.9042 - val_loss: 0.9215 - val_acc: 0.6000\n",
      "Epoch 90/100\n",
      "240/240 [==============================] - 0s 217us/step - loss: 0.2566 - acc: 0.9042 - val_loss: 0.8711 - val_acc: 0.7000\n",
      "Epoch 91/100\n",
      "240/240 [==============================] - 0s 241us/step - loss: 0.3110 - acc: 0.8875 - val_loss: 1.0911 - val_acc: 0.5833\n",
      "Epoch 92/100\n",
      "240/240 [==============================] - 0s 223us/step - loss: 0.3155 - acc: 0.8625 - val_loss: 0.9101 - val_acc: 0.6000\n",
      "Epoch 93/100\n",
      "240/240 [==============================] - 0s 214us/step - loss: 0.2306 - acc: 0.9375 - val_loss: 1.0349 - val_acc: 0.5333\n",
      "Epoch 94/100\n",
      "240/240 [==============================] - 0s 215us/step - loss: 0.2591 - acc: 0.8958 - val_loss: 0.9188 - val_acc: 0.5333\n",
      "Epoch 95/100\n",
      "240/240 [==============================] - 0s 217us/step - loss: 0.2018 - acc: 0.9500 - val_loss: 0.9221 - val_acc: 0.6167\n",
      "Epoch 96/100\n",
      "240/240 [==============================] - 0s 233us/step - loss: 0.2853 - acc: 0.8583 - val_loss: 1.0256 - val_acc: 0.6000\n",
      "Epoch 97/100\n",
      "240/240 [==============================] - 0s 214us/step - loss: 0.1978 - acc: 0.9500 - val_loss: 1.0916 - val_acc: 0.5500\n",
      "Epoch 98/100\n",
      "240/240 [==============================] - 0s 246us/step - loss: 0.1995 - acc: 0.9417 - val_loss: 0.9724 - val_acc: 0.7000\n",
      "Epoch 99/100\n",
      "240/240 [==============================] - 0s 217us/step - loss: 0.1742 - acc: 0.9625 - val_loss: 1.0477 - val_acc: 0.5667\n",
      "Epoch 100/100\n",
      "240/240 [==============================] - 0s 215us/step - loss: 0.2266 - acc: 0.9125 - val_loss: 1.1768 - val_acc: 0.6167\n"
     ]
    },
    {
     "data": {
      "text/plain": [
       "<keras.callbacks.History at 0x15fc92f10>"
      ]
     },
     "execution_count": 47,
     "metadata": {},
     "output_type": "execute_result"
    }
   ],
   "source": [
    "model4.fit(X_train, Y_train, epochs=100, batch_size=32, validation_split = 0.2)"
   ]
  },
  {
   "cell_type": "code",
   "execution_count": 48,
   "metadata": {
    "scrolled": true
   },
   "outputs": [
    {
     "name": "stdout",
     "output_type": "stream",
     "text": [
      "Creating data:\n",
      "0\n",
      "10\n",
      "20\n",
      "30\n",
      "40\n",
      "50\n",
      "60\n",
      "70\n",
      "80\n",
      "90\n",
      "100\n",
      "110\n",
      "120\n",
      "130\n",
      "140\n",
      "150\n",
      "160\n",
      "170\n",
      "180\n",
      "190\n",
      "200\n",
      "210\n",
      "220\n",
      "230\n",
      "240\n",
      "250\n",
      "260\n",
      "270\n",
      "280\n",
      "290\n"
     ]
    }
   ],
   "source": [
    "[X_test, Y_test] = generate_test_set_classification()"
   ]
  },
  {
   "cell_type": "code",
   "execution_count": 49,
   "metadata": {},
   "outputs": [
    {
     "data": {
      "text/plain": [
       "(300, 3)"
      ]
     },
     "execution_count": 49,
     "metadata": {},
     "output_type": "execute_result"
    }
   ],
   "source": [
    "Y_test.shape"
   ]
  },
  {
   "cell_type": "code",
   "execution_count": 50,
   "metadata": {},
   "outputs": [
    {
     "name": "stdout",
     "output_type": "stream",
     "text": [
      "300/300 [==============================] - 0s 87us/step\n"
     ]
    },
    {
     "data": {
      "text/plain": [
       "[1.2207681115468343, 0.566666667064031]"
      ]
     },
     "execution_count": 50,
     "metadata": {},
     "output_type": "execute_result"
    }
   ],
   "source": [
    "model4.evaluate(X_test, Y_test)"
   ]
  },
  {
   "cell_type": "markdown",
   "metadata": {},
   "source": [
    "The test accuracy is of 58%. To get a better result, we will now try to add a convolutional layer."
   ]
  },
  {
   "cell_type": "code",
   "execution_count": 51,
   "metadata": {
    "scrolled": true
   },
   "outputs": [
    {
     "name": "stdout",
     "output_type": "stream",
     "text": [
      "Creating data:\n",
      "0\n",
      "10\n",
      "20\n",
      "30\n",
      "40\n",
      "50\n",
      "60\n",
      "70\n",
      "80\n",
      "90\n",
      "100\n",
      "110\n",
      "120\n",
      "130\n",
      "140\n",
      "150\n",
      "160\n",
      "170\n",
      "180\n",
      "190\n",
      "200\n",
      "210\n",
      "220\n",
      "230\n",
      "240\n",
      "250\n",
      "260\n",
      "270\n",
      "280\n",
      "290\n",
      "300\n",
      "310\n",
      "320\n",
      "330\n",
      "340\n",
      "350\n",
      "360\n",
      "370\n",
      "380\n",
      "390\n",
      "400\n",
      "410\n",
      "420\n",
      "430\n",
      "440\n",
      "450\n",
      "460\n",
      "470\n",
      "480\n",
      "490\n",
      "500\n",
      "510\n",
      "520\n",
      "530\n",
      "540\n",
      "550\n",
      "560\n",
      "570\n",
      "580\n",
      "590\n",
      "600\n",
      "610\n",
      "620\n",
      "630\n",
      "640\n",
      "650\n",
      "660\n",
      "670\n",
      "680\n",
      "690\n",
      "700\n",
      "710\n",
      "720\n",
      "730\n",
      "740\n",
      "750\n",
      "760\n",
      "770\n",
      "780\n",
      "790\n",
      "800\n",
      "810\n",
      "820\n",
      "830\n",
      "840\n",
      "850\n",
      "860\n",
      "870\n",
      "880\n",
      "890\n",
      "900\n",
      "910\n",
      "920\n",
      "930\n",
      "940\n",
      "950\n",
      "960\n",
      "970\n",
      "980\n",
      "990\n"
     ]
    }
   ],
   "source": [
    "[X_train, Y_train] = generate_dataset_classification(1000, 20, True)"
   ]
  },
  {
   "cell_type": "code",
   "execution_count": 52,
   "metadata": {},
   "outputs": [
    {
     "data": {
      "text/plain": [
       "(1000, 5184)"
      ]
     },
     "execution_count": 52,
     "metadata": {},
     "output_type": "execute_result"
    }
   ],
   "source": [
    "X_train.shape"
   ]
  },
  {
   "cell_type": "code",
   "execution_count": 53,
   "metadata": {},
   "outputs": [],
   "source": [
    "X_train = X_train.reshape(1000, 72, 72)"
   ]
  },
  {
   "cell_type": "code",
   "execution_count": 54,
   "metadata": {},
   "outputs": [],
   "source": [
    "#reshape data to fit model\n",
    "X_train = X_train.reshape(1000, 72, 72, 1)"
   ]
  },
  {
   "cell_type": "code",
   "execution_count": 55,
   "metadata": {},
   "outputs": [],
   "source": [
    "from keras.models import Sequential\n",
    "from keras.layers import Dense, Conv2D, Flatten\n",
    "#create model\n",
    "model5 = Sequential()\n",
    "#add model layers\n",
    "model5 = Sequential([\n",
    "    Conv2D(64, kernel_size=3, activation='relu', input_shape=(72, 72, 1)),\n",
    "    Conv2D(32, kernel_size=3, activation='relu'),\n",
    "    Flatten(),\n",
    "    Dense(3, activation='softmax')])"
   ]
  },
  {
   "cell_type": "code",
   "execution_count": 56,
   "metadata": {},
   "outputs": [],
   "source": [
    "#compile model using accuracy to measure model performance\n",
    "model5.compile(optimizer='adam', loss='categorical_crossentropy', metrics=['accuracy'])"
   ]
  },
  {
   "cell_type": "code",
   "execution_count": 57,
   "metadata": {
    "scrolled": true
   },
   "outputs": [
    {
     "name": "stdout",
     "output_type": "stream",
     "text": [
      "Train on 800 samples, validate on 200 samples\n",
      "Epoch 1/15\n",
      "800/800 [==============================] - 10s 13ms/step - loss: 1.3533 - acc: 0.4500 - val_loss: 0.8024 - val_acc: 0.7000\n",
      "Epoch 2/15\n",
      "800/800 [==============================] - 9s 11ms/step - loss: 0.6571 - acc: 0.7300 - val_loss: 0.6597 - val_acc: 0.7300\n",
      "Epoch 3/15\n",
      "800/800 [==============================] - 9s 11ms/step - loss: 0.4933 - acc: 0.8038 - val_loss: 0.6513 - val_acc: 0.6950\n",
      "Epoch 4/15\n",
      "800/800 [==============================] - 9s 11ms/step - loss: 0.3297 - acc: 0.8825 - val_loss: 0.7558 - val_acc: 0.6900\n",
      "Epoch 5/15\n",
      "800/800 [==============================] - 10s 12ms/step - loss: 0.2336 - acc: 0.9363 - val_loss: 0.6668 - val_acc: 0.7550\n",
      "Epoch 6/15\n",
      "800/800 [==============================] - 10s 13ms/step - loss: 0.1229 - acc: 0.9713 - val_loss: 0.7196 - val_acc: 0.7550\n",
      "Epoch 7/15\n",
      "800/800 [==============================] - 9s 11ms/step - loss: 0.0692 - acc: 0.9950 - val_loss: 0.7892 - val_acc: 0.7600\n",
      "Epoch 8/15\n",
      "800/800 [==============================] - 9s 11ms/step - loss: 0.0323 - acc: 0.9988 - val_loss: 0.8260 - val_acc: 0.7600\n",
      "Epoch 9/15\n",
      "800/800 [==============================] - 10s 12ms/step - loss: 0.0320 - acc: 0.9988 - val_loss: 0.8771 - val_acc: 0.7600\n",
      "Epoch 10/15\n",
      "800/800 [==============================] - 9s 12ms/step - loss: 0.0205 - acc: 1.0000 - val_loss: 0.9342 - val_acc: 0.7550\n",
      "Epoch 11/15\n",
      "800/800 [==============================] - 9s 12ms/step - loss: 0.0112 - acc: 1.0000 - val_loss: 0.9580 - val_acc: 0.7650\n",
      "Epoch 12/15\n",
      "800/800 [==============================] - 10s 12ms/step - loss: 0.0066 - acc: 1.0000 - val_loss: 0.9950 - val_acc: 0.7700\n",
      "Epoch 13/15\n",
      "800/800 [==============================] - 10s 12ms/step - loss: 0.0047 - acc: 1.0000 - val_loss: 1.0175 - val_acc: 0.7700\n",
      "Epoch 14/15\n",
      "800/800 [==============================] - 9s 11ms/step - loss: 0.0036 - acc: 1.0000 - val_loss: 1.0307 - val_acc: 0.7700\n",
      "Epoch 15/15\n",
      "800/800 [==============================] - 9s 12ms/step - loss: 0.0030 - acc: 1.0000 - val_loss: 1.0370 - val_acc: 0.7700\n"
     ]
    },
    {
     "data": {
      "text/plain": [
       "<keras.callbacks.History at 0x15d1f2750>"
      ]
     },
     "execution_count": 57,
     "metadata": {},
     "output_type": "execute_result"
    }
   ],
   "source": [
    "model5.fit(X_train, Y_train, epochs=15, validation_split = 0.2)"
   ]
  },
  {
   "cell_type": "markdown",
   "metadata": {},
   "source": [
    "We witness better result, with a ceiling around 80% regarding classification for the test set."
   ]
  },
  {
   "cell_type": "markdown",
   "metadata": {},
   "source": [
    "## 6 A Regression Problem"
   ]
  },
  {
   "cell_type": "code",
   "execution_count": 58,
   "metadata": {
    "scrolled": true
   },
   "outputs": [
    {
     "name": "stdout",
     "output_type": "stream",
     "text": [
      "Creating data:\n",
      "0\n",
      "10\n",
      "20\n",
      "30\n",
      "40\n",
      "50\n",
      "60\n",
      "70\n",
      "80\n",
      "90\n",
      "100\n",
      "110\n",
      "120\n",
      "130\n",
      "140\n",
      "150\n",
      "160\n",
      "170\n",
      "180\n",
      "190\n",
      "200\n",
      "210\n",
      "220\n",
      "230\n",
      "240\n",
      "250\n",
      "260\n",
      "270\n",
      "280\n",
      "290\n"
     ]
    }
   ],
   "source": [
    "[X_train, Y_train] = generate_dataset_regression(300, 20)"
   ]
  },
  {
   "cell_type": "code",
   "execution_count": 59,
   "metadata": {},
   "outputs": [
    {
     "data": {
      "image/png": "[encoded data removed]",
      "text/plain": [
       "<Figure size 360x360 with 1 Axes>"
      ]
     },
     "metadata": {
      "needs_background": "light"
     },
     "output_type": "display_data"
    }
   ],
   "source": [
    "visualize_prediction(X_train[0], Y_train[0])"
   ]
  },
  {
   "cell_type": "code",
   "execution_count": 60,
   "metadata": {},
   "outputs": [
    {
     "data": {
      "text/plain": [
       "(300, 5184)"
      ]
     },
     "execution_count": 60,
     "metadata": {},
     "output_type": "execute_result"
    }
   ],
   "source": [
    "X_train.shape"
   ]
  },
  {
   "cell_type": "code",
   "execution_count": 61,
   "metadata": {},
   "outputs": [
    {
     "data": {
      "text/plain": [
       "(300, 6)"
      ]
     },
     "execution_count": 61,
     "metadata": {},
     "output_type": "execute_result"
    }
   ],
   "source": [
    "Y_train.shape"
   ]
  },
  {
   "cell_type": "code",
   "execution_count": 62,
   "metadata": {},
   "outputs": [],
   "source": [
    "X_train = X_train.reshape(300, 72, 72, 1)"
   ]
  },
  {
   "cell_type": "code",
   "execution_count": 63,
   "metadata": {},
   "outputs": [],
   "source": [
    "model6 = Sequential()\n",
    "#add model layers\n",
    "model6 = Sequential([\n",
    "    Conv2D(64, kernel_size=3, activation='relu', input_shape=(72, 72, 1)),\n",
    "    Conv2D(32, kernel_size=3, activation='relu'),\n",
    "    Flatten(),\n",
    "    Dense(6, activation='linear')])\n",
    "\n",
    "model6.compile(optimizer='adam', loss='categorical_crossentropy', metrics=['accuracy'])"
   ]
  },
  {
   "cell_type": "code",
   "execution_count": 64,
   "metadata": {
    "scrolled": true
   },
   "outputs": [
    {
     "name": "stdout",
     "output_type": "stream",
     "text": [
      "Train on 240 samples, validate on 60 samples\n",
      "Epoch 1/15\n",
      "240/240 [==============================] - 3s 13ms/step - loss: 12.7502 - acc: 0.1333 - val_loss: 8.5628 - val_acc: 0.0667\n",
      "Epoch 2/15\n",
      "240/240 [==============================] - 3s 12ms/step - loss: 12.7737 - acc: 0.1458 - val_loss: 5.2435 - val_acc: 0.0667\n",
      "Epoch 3/15\n",
      "240/240 [==============================] - 3s 13ms/step - loss: 5.3434 - acc: 0.1708 - val_loss: 5.2530 - val_acc: 0.1667\n",
      "Epoch 4/15\n",
      "240/240 [==============================] - 3s 14ms/step - loss: 5.3624 - acc: 0.1750 - val_loss: 5.2496 - val_acc: 0.1667\n",
      "Epoch 5/15\n",
      "240/240 [==============================] - 3s 12ms/step - loss: 5.3451 - acc: 0.1750 - val_loss: 5.2301 - val_acc: 0.1667\n",
      "Epoch 6/15\n",
      "240/240 [==============================] - 3s 13ms/step - loss: 5.3326 - acc: 0.1792 - val_loss: 5.2321 - val_acc: 0.1833\n",
      "Epoch 7/15\n",
      "240/240 [==============================] - 3s 13ms/step - loss: 5.3326 - acc: 0.1750 - val_loss: 5.2281 - val_acc: 0.1833\n",
      "Epoch 8/15\n",
      "240/240 [==============================] - 3s 12ms/step - loss: 5.3314 - acc: 0.1750 - val_loss: 5.2281 - val_acc: 0.1833\n",
      "Epoch 9/15\n",
      "240/240 [==============================] - 3s 13ms/step - loss: 5.3311 - acc: 0.1375 - val_loss: 5.2282 - val_acc: 0.2167\n",
      "Epoch 10/15\n",
      "240/240 [==============================] - 3s 12ms/step - loss: 5.3302 - acc: 0.1708 - val_loss: 5.2281 - val_acc: 0.1833\n",
      "Epoch 11/15\n",
      "240/240 [==============================] - 3s 11ms/step - loss: 5.3295 - acc: 0.1542 - val_loss: 5.2266 - val_acc: 0.1833\n",
      "Epoch 12/15\n",
      "240/240 [==============================] - 3s 12ms/step - loss: 5.3283 - acc: 0.1667 - val_loss: 5.2298 - val_acc: 0.2000\n",
      "Epoch 13/15\n",
      "240/240 [==============================] - 3s 11ms/step - loss: 5.3267 - acc: 0.1417 - val_loss: 5.2240 - val_acc: 0.0833\n",
      "Epoch 14/15\n",
      "240/240 [==============================] - 3s 11ms/step - loss: 5.3240 - acc: 0.1625 - val_loss: 5.2198 - val_acc: 0.1833\n",
      "Epoch 15/15\n",
      "240/240 [==============================] - 3s 12ms/step - loss: 5.3202 - acc: 0.1417 - val_loss: 5.2188 - val_acc: 0.1000\n"
     ]
    },
    {
     "data": {
      "text/plain": [
       "<keras.callbacks.History at 0x131aaaf90>"
      ]
     },
     "execution_count": 64,
     "metadata": {},
     "output_type": "execute_result"
    }
   ],
   "source": [
    "model6.fit(X_train, Y_train, epochs=15, validation_split = 0.2)"
   ]
  },
  {
   "cell_type": "markdown",
   "metadata": {},
   "source": [
    "The results are not satisfactory and we will now perform normalisation."
   ]
  },
  {
   "cell_type": "code",
   "execution_count": 65,
   "metadata": {},
   "outputs": [],
   "source": [
    "from sklearn.preprocessing import MinMaxScaler\n",
    "scaler = MinMaxScaler()\n",
    "scaled = scaler.fit_transform(Y_train)\n",
    "#unscaled = scaler.inverse_transform(scaled)"
   ]
  },
  {
   "cell_type": "code",
   "execution_count": 66,
   "metadata": {},
   "outputs": [],
   "source": [
    "model7 = Sequential()\n",
    "#add model layers\n",
    "model7 = Sequential([\n",
    "    Conv2D(64, kernel_size=3, activation='relu', input_shape=(72, 72, 1)),\n",
    "    Conv2D(32, kernel_size=3, activation='relu'),\n",
    "    Flatten(),\n",
    "    Dense(6, activation='linear')])\n",
    "\n",
    "model7.compile(optimizer='adam', loss='categorical_crossentropy', metrics=['accuracy'])"
   ]
  },
  {
   "cell_type": "code",
   "execution_count": 67,
   "metadata": {
    "scrolled": true
   },
   "outputs": [
    {
     "name": "stdout",
     "output_type": "stream",
     "text": [
      "Train on 240 samples, validate on 60 samples\n",
      "Epoch 1/15\n",
      "240/240 [==============================] - 3s 14ms/step - loss: 12.6446 - acc: 0.1458 - val_loss: 10.1809 - val_acc: 0.0667\n",
      "Epoch 2/15\n",
      "240/240 [==============================] - 3s 12ms/step - loss: 11.4541 - acc: 0.1458 - val_loss: 9.8045 - val_acc: 0.0667\n",
      "Epoch 3/15\n",
      "240/240 [==============================] - 3s 11ms/step - loss: 17.6985 - acc: 0.1458 - val_loss: 6.4890 - val_acc: 0.0667\n",
      "Epoch 4/15\n",
      "240/240 [==============================] - 3s 11ms/step - loss: 5.6450 - acc: 0.1458 - val_loss: 5.2363 - val_acc: 0.0667\n",
      "Epoch 5/15\n",
      "240/240 [==============================] - 3s 12ms/step - loss: 5.3418 - acc: 0.1208 - val_loss: 5.2268 - val_acc: 0.1167\n",
      "Epoch 6/15\n",
      "240/240 [==============================] - 3s 11ms/step - loss: 5.3527 - acc: 0.1958 - val_loss: 5.2235 - val_acc: 0.2167\n",
      "Epoch 7/15\n",
      "240/240 [==============================] - 3s 12ms/step - loss: 5.3399 - acc: 0.2125 - val_loss: 5.2234 - val_acc: 0.2000\n",
      "Epoch 8/15\n",
      "240/240 [==============================] - 3s 12ms/step - loss: 5.3330 - acc: 0.2000 - val_loss: 5.2264 - val_acc: 0.2000\n",
      "Epoch 9/15\n",
      "240/240 [==============================] - 3s 11ms/step - loss: 5.3322 - acc: 0.1583 - val_loss: 5.2316 - val_acc: 0.0667\n",
      "Epoch 10/15\n",
      "240/240 [==============================] - 3s 11ms/step - loss: 5.3318 - acc: 0.1458 - val_loss: 5.2324 - val_acc: 0.0667\n",
      "Epoch 11/15\n",
      "240/240 [==============================] - 3s 11ms/step - loss: 5.3318 - acc: 0.1500 - val_loss: 5.2312 - val_acc: 0.0667\n",
      "Epoch 12/15\n",
      "240/240 [==============================] - 3s 13ms/step - loss: 5.3314 - acc: 0.1875 - val_loss: 5.2296 - val_acc: 0.1500\n",
      "Epoch 13/15\n",
      "240/240 [==============================] - 3s 13ms/step - loss: 5.3309 - acc: 0.2125 - val_loss: 5.2279 - val_acc: 0.1500\n",
      "Epoch 14/15\n",
      "240/240 [==============================] - 3s 13ms/step - loss: 5.3304 - acc: 0.2292 - val_loss: 5.2279 - val_acc: 0.1500\n",
      "Epoch 15/15\n",
      "240/240 [==============================] - 3s 14ms/step - loss: 5.3295 - acc: 0.2292 - val_loss: 5.2281 - val_acc: 0.1667\n"
     ]
    },
    {
     "data": {
      "text/plain": [
       "<keras.callbacks.History at 0x15d165890>"
      ]
     },
     "execution_count": 67,
     "metadata": {},
     "output_type": "execute_result"
    }
   ],
   "source": [
    "model7.fit(X_train, Y_train, epochs=15, validation_split = 0.2)"
   ]
  },
  {
   "cell_type": "code",
   "execution_count": null,
   "metadata": {},
   "outputs": [],
   "source": []
  },
  {
   "cell_type": "code",
   "execution_count": null,
   "metadata": {},
   "outputs": [],
   "source": []
  },
  {
   "cell_type": "code",
   "execution_count": 563,
   "metadata": {
    "scrolled": true
   },
   "outputs": [
    {
     "name": "stdout",
     "output_type": "stream",
     "text": [
      "Creating data:\n",
      "0\n",
      "10\n",
      "20\n",
      "30\n",
      "40\n",
      "50\n",
      "60\n",
      "70\n",
      "80\n",
      "90\n",
      "100\n",
      "110\n",
      "120\n",
      "130\n",
      "140\n",
      "150\n",
      "160\n",
      "170\n",
      "180\n",
      "190\n",
      "200\n",
      "210\n",
      "220\n",
      "230\n",
      "240\n",
      "250\n",
      "260\n",
      "270\n",
      "280\n",
      "290\n"
     ]
    }
   ],
   "source": [
    "[X_test, Y_test] = generate_test_set_regression()"
   ]
  },
  {
   "cell_type": "code",
   "execution_count": 564,
   "metadata": {},
   "outputs": [
    {
     "name": "stdout",
     "output_type": "stream",
     "text": [
      "300/300 [==============================] - 0s 106us/step\n"
     ]
    },
    {
     "data": {
      "text/plain": [
       "0.08268210897843042"
      ]
     },
     "execution_count": 564,
     "metadata": {},
     "output_type": "execute_result"
    }
   ],
   "source": [
    "model6.evaluate(X_test, Y_test)"
   ]
  },
  {
   "cell_type": "code",
   "execution_count": 599,
   "metadata": {},
   "outputs": [
    {
     "data": {
      "image/png": "[encoded data removed]",
      "text/plain": [
       "<Figure size 360x360 with 1 Axes>"
      ]
     },
     "metadata": {
      "needs_background": "light"
     },
     "output_type": "display_data"
    }
   ],
   "source": [
    "visualize_prediction(X_train[4], model6.predict(X_train[4].reshape(1, X_train[4].shape[0])))"
   ]
  },
  {
   "cell_type": "code",
   "execution_count": 579,
   "metadata": {},
   "outputs": [
    {
     "data": {
      "text/plain": [
       "array([[0.5424148 , 0.4383538 , 0.46269566, 0.54540616, 0.5062677 ,\n",
       "        0.39725077]], dtype=float32)"
      ]
     },
     "execution_count": 579,
     "metadata": {},
     "output_type": "execute_result"
    }
   ],
   "source": [
    "model6.predict(X_test)"
   ]
  },
  {
   "cell_type": "code",
   "execution_count": 578,
   "metadata": {},
   "outputs": [],
   "source": [
    "X_test = X_train[0].reshape(1, X_train[0].shape[0])"
   ]
  }
 ],
 "metadata": {
  "kernelspec": {
   "display_name": "Python 2",
   "language": "python",
   "name": "python2"
  },
  "language_info": {
   "codemirror_mode": {
    "name": "ipython",
    "version": 2
   },
   "file_extension": ".py",
   "mimetype": "text/x-python",
   "name": "python",
   "nbconvert_exporter": "python",
   "pygments_lexer": "ipython2",
   "version": "2.7.15"
  }
 },
 "nbformat": 4,
 "nbformat_minor": 2
}
